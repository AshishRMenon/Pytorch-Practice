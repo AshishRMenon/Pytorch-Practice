{
 "cells": [
  {
   "cell_type": "code",
   "execution_count": 1,
   "metadata": {},
   "outputs": [
    {
     "name": "stdout",
     "output_type": "stream",
     "text": [
      "['horse', 'car', 'cat', 'cat']\n"
     ]
    }
   ],
   "source": [
    "import torch\n",
    "import torchvision\n",
    "import torchvision.transforms as T\n",
    "from matplotlib import pyplot as plt\n",
    "import numpy as np\n",
    "transform=T.Compose([T.ToTensor(), T.Normalize((0.5,0.5,0.5),(0.5,0.5,0.5))])\n",
    "\n",
    "traindata=torchvision.datasets.CIFAR10(root='./data', train=True, download=False, transform=transform)\n",
    "trainloader=torch.utils.data.DataLoader(traindata, batch_size=4, shuffle=True)\n",
    "\n",
    "testdata=torchvision.datasets.CIFAR10(root='./data', train=False, download=False, transform=transform)\n",
    "testloader=torch.utils.data.DataLoader(testdata, batch_size=4, shuffle=True)\n",
    "\n",
    "classes = ('plane', 'car', 'bird', 'cat',\n",
    "           'deer', 'dog', 'frog', 'horse', 'ship', 'truck')\n",
    "\n",
    "def imgshow(image):\n",
    "    image=image*0.5 + 0.5\n",
    "    img_np = image.numpy()\n",
    "    plt.imsave('sample.jpg', np.transpose(img_np,(1,2,0)))\n",
    "\n",
    "image,labels=iter(trainloader).next()\n",
    "imgshow(torchvision.utils.make_grid(image))\n",
    "print( [classes[labels[j]] for j in range(4)])\n",
    "\n",
    "import torch.nn as nn\n",
    "import torch.nn.functional as F\n",
    "\n",
    "class Network(nn.Module):\n",
    "    def __init__(self):\n",
    "        super(Network,self).__init__()\n",
    "        self.cnv1=nn.Conv2d(3,6,5)\n",
    "        self.pool=nn.MaxPool2d(2,2)\n",
    "        self.cnv2=nn.Conv2d(6,16,5)\n",
    "        self.fc1=nn.Linear(400,120)\n",
    "        self.fc2=nn.Linear(120,84)\n",
    "        self.fc3=nn.Linear(84,10)\n",
    "\n",
    "    def forward(self,x):\n",
    "        x = self.pool(F.relu(self.cnv1(x)))\n",
    "        x = self.pool(F.relu(self.cnv2(x)))\n",
    "        x = x.view(-1, 16 * 5 * 5)\n",
    "        x = F.relu(self.fc1(x))\n",
    "        x = F.relu(self.fc2(x))\n",
    "        x = self.fc3(x)\n",
    "        return x\n",
    "        \n",
    "\n",
    "net=Network()\n",
    "import torch.optim as optim\n",
    "criterion=nn.CrossEntropyLoss()\n",
    "optimizer=optim.SGD(net.parameters() , lr=0.001, momentum=0.9)\n",
    "\n"
   ]
  },
  {
   "cell_type": "code",
   "execution_count": 2,
   "metadata": {},
   "outputs": [
    {
     "data": {
      "image/png": "[encoded data removed]",
      "text/plain": [
       "<Figure size 432x288 with 1 Axes>"
      ]
     },
     "metadata": {
      "needs_background": "light"
     },
     "output_type": "display_data"
    }
   ],
   "source": [
    "from matplotlib import pyplot as plt\n",
    "def imageshow(im):\n",
    "    im_np= im.numpy()\n",
    "    im_np= np.transpose(im_np, (1,2,0))\n",
    "    im_np=im_np*0.5 + 0.5 \n",
    "    plt.imshow(im_np)\n",
    "images,labels = iter(trainloader).next()\n",
    "images=torchvision.utils.make_grid(images)\n",
    "imageshow(images)\n",
    "#images"
   ]
  },
  {
   "cell_type": "code",
   "execution_count": 77,
   "metadata": {},
   "outputs": [],
   "source": [
    "for epoch in range(2):\n",
    "    running_loss=0\n",
    "    for i,data in enumerate(trainloader):\n",
    "        images,labels=data\n",
    "        optimizer.zero_grad()\n",
    "        output = net(images)\n",
    "        loss = criterion(output,labels)\n",
    "        loss.backward()\n",
    "        optimizer.step()\n",
    "        "
   ]
  },
  {
   "cell_type": "code",
   "execution_count": 78,
   "metadata": {},
   "outputs": [
    {
     "name": "stdout",
     "output_type": "stream",
     "text": [
      "Accuracy=53.38%\n"
     ]
    }
   ],
   "source": [
    "\n",
    "correct=0\n",
    "total=0\n",
    "classes_ref=[0, 0, 0, 0, 0, 0, 0, 0, 0, 0]\n",
    "classes_total=[0, 0, 0, 0, 0, 0, 0, 0, 0, 0]\n",
    "with torch.no_grad():\n",
    "    for data in testloader:\n",
    "        image,labels=data\n",
    "        output_test=net(image)\n",
    "        _, predictions = torch.max(output_test,1)\n",
    "        total+=labels.size(0)\n",
    "        correct+=(predictions==labels).sum().item()\n",
    "        for i in range(4):\n",
    "            if predictions[i]==labels[i]:\n",
    "                classes_ref[np.int(predictions[i].numpy())]+=1\n",
    "            classes_total[labels[i]]+=1\n",
    "\n",
    "    print('Accuracy={}%'.format(100*correct/total))\n",
    "\n",
    "\n",
    "\n",
    "\n",
    "\n"
   ]
  },
  {
   "cell_type": "code",
   "execution_count": 79,
   "metadata": {},
   "outputs": [
    {
     "name": "stdout",
     "output_type": "stream",
     "text": [
      "Accuracy of plane = 59.8\n",
      "Accuracy of car = 69.4\n",
      "Accuracy of bird = 22.9\n",
      "Accuracy of cat = 29.7\n",
      "Accuracy of deer = 55.4\n",
      "Accuracy of dog = 42.3\n",
      "Accuracy of frog = 56.1\n",
      "Accuracy of horse = 79.4\n",
      "Accuracy of ship = 68.7\n",
      "Accuracy of truck = 50.1\n"
     ]
    }
   ],
   "source": [
    "for i in range (10):\n",
    "    print('Accuracy of {} = {}'.format(classes[i],classes_ref[i]/10))"
   ]
  }
 ],
 "metadata": {
  "kernelspec": {
   "display_name": "Python 3",
   "language": "python",
   "name": "python3"
  },
  "language_info": {
   "codemirror_mode": {
    "name": "ipython",
    "version": 3
   },
   "file_extension": ".py",
   "mimetype": "text/x-python",
   "name": "python",
   "nbconvert_exporter": "python",
   "pygments_lexer": "ipython3",
   "version": "3.7.1"
  }
 },
 "nbformat": 4,
 "nbformat_minor": 2
}
